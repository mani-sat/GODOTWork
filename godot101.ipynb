{
 "cells": [
  {
   "cell_type": "code",
   "execution_count": 1,
   "metadata": {},
   "outputs": [
    {
     "name": "stdout",
     "output_type": "stream",
     "text": [
      "4.0\n",
      "         Value |          area |          mass\n",
      "  4.000000e+00 |  2.000000e-01 | -8.000000e-01\n",
      "\n"
     ]
    }
   ],
   "source": [
    "import godot\n",
    "\n",
    "class area_to_mass_ratio ( godot.model.common.ScalarTimeEvaluable ):\n",
    "    def __init__(self, area : godot.model.common.ScalarTimeEvaluable, mass : godot.model.common.ScalarTimeEvaluable ):\n",
    "        godot.model.common.ScalarTimeEvaluable.__init__(self)\n",
    "        self.__area = area\n",
    "        self.__mass = mass\n",
    "\n",
    "    def eval(self, e ):\n",
    "        return self.__area.eval(e)/self.__mass.eval(e)\n",
    "        \n",
    "area = godot.model.common.ConstantScalarTimeEvaluable(godot.core.autodif.Scalar( 20.0, \"area\" ))\n",
    "mass = godot.model.common.ConstantScalarTimeEvaluable(godot.core.autodif.Scalar( 5.0, \"mass\" ))\n",
    "\n",
    "a2m = area_to_mass_ratio(area, mass)\n",
    "\n",
    "e = godot.core.tempo.Epoch()\n",
    "\n",
    "print(a2m.eval(e))\n",
    "4.0\n",
    "\n",
    "xe = godot.core.tempo.XEpoch()\n",
    "\n",
    "print(a2m.eval(xe))\n"
   ]
  }
 ],
 "metadata": {
  "kernelspec": {
   "display_name": "venv",
   "language": "python",
   "name": "python3"
  },
  "language_info": {
   "codemirror_mode": {
    "name": "ipython",
    "version": 3
   },
   "file_extension": ".py",
   "mimetype": "text/x-python",
   "name": "python",
   "nbconvert_exporter": "python",
   "pygments_lexer": "ipython3",
   "version": "3.12.9"
  }
 },
 "nbformat": 4,
 "nbformat_minor": 2
}
