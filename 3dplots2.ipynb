{
 "cells": [
  {
   "cell_type": "markdown",
   "metadata": {},
   "source": [
    "# Planet Viewing Example\n",
    "\n",
    "This example shows how to plot geometric quantities using the frames system.\n"
   ]
  },
  {
   "cell_type": "markdown",
   "metadata": {},
   "source": [
    "First we import numpy and the plotting module."
   ]
  },
  {
   "cell_type": "code",
   "execution_count": 24,
   "metadata": {
    "execution": {
     "iopub.execute_input": "2023-04-03T14:35:32.189737Z",
     "iopub.status.busy": "2023-04-03T14:35:32.188194Z",
     "iopub.status.idle": "2023-04-03T14:35:32.526808Z",
     "shell.execute_reply": "2023-04-03T14:35:32.526441Z"
    }
   },
   "outputs": [],
   "source": [
    "#%matplotlib tk\n",
    "import numpy as np\n",
    "import matplotlib.pyplot as plt\n",
    "from mpl_toolkits.mplot3d import Axes3D"
   ]
  },
  {
   "cell_type": "markdown",
   "metadata": {},
   "source": [
    "Then we import GODOT modules and create a universe from configuration.\n",
    "\n",
    "The [universe](./universe.yml) contains an entry to insert a keplerian orbit point, named 'SC' into the frames system."
   ]
  },
  {
   "cell_type": "code",
   "execution_count": 25,
   "metadata": {
    "execution": {
     "iopub.execute_input": "2023-04-03T14:35:32.530269Z",
     "iopub.status.busy": "2023-04-03T14:35:32.529626Z",
     "iopub.status.idle": "2023-04-03T14:35:32.601515Z",
     "shell.execute_reply": "2023-04-03T14:35:32.601024Z"
    }
   },
   "outputs": [],
   "source": [
    "from godot.core import tempo, astro, events\n",
    "from godot import cosmos\n",
    "from godot.model import eventgen\n",
    "\n",
    "# optionally avoid verbose logging messages\n",
    "import godot.core.util as util\n",
    "util.suppressLogger()\n",
    "\n",
    "# create the universe\n",
    "uni_config = cosmos.util.load_yaml('universe2.yml')\n",
    "uni = cosmos.Universe(uni_config)"
   ]
  },
  {
   "cell_type": "markdown",
   "metadata": {},
   "source": [
    "We setup the universe as defined in the yml file.\n",
    "Furthermore we define a timespan, here one month, evaluated in 30 seconds timesteps."
   ]
  },
  {
   "cell_type": "code",
   "execution_count": 26,
   "metadata": {},
   "outputs": [],
   "source": [
    "#Setup\n",
    "uni_config = cosmos.util.load_yaml('universe2.yml')\n",
    "uni = cosmos.Universe(uni_config)\n",
    "\n",
    "# specify a time grid\n",
    "ep1 = tempo.Epoch('2026-04-01T00:00:00 TDB')\n",
    "ep2 = tempo.Epoch('2026-05-01T00:00:00 TDB')\n",
    "ran = tempo.EpochRange( ep1, ep2 )\n",
    "grid = ran.createGrid(30.0) # 30 seconds stepsize\n",
    "eps = 1e-6\n",
    "tol = 1e-6\n",
    "event_grid = ran.contract(eps).createGrid(30.0)"
   ]
  },
  {
   "cell_type": "markdown",
   "metadata": {},
   "source": [
    "Events are evaluated as\n",
    "$$\n",
    "g(t) > 0\n",
    "$$\n",
    "\n",
    "Event interval are evaluated as time periods where this is true"
   ]
  },
  {
   "cell_type": "markdown",
   "metadata": {},
   "source": [
    "Besides the earth hiding, we want to know wether the moon blocks the view of the spacecraft. This can be done by calculating if the vector between the ground station and the SC intersects the surface of the moon. If the vector does, and the spacecraft is closer to the groundstation than the moon, it is still visible"
   ]
  },
  {
   "cell_type": "code",
   "execution_count": 27,
   "metadata": {},
   "outputs": [],
   "source": [
    "class PointProjector():\n",
    "    def __init__(self,normal):\n",
    "        self.normal = normal\n",
    "        self.P = self.compute_projection_matrix(normal)\n",
    "        self.u, self.v = self.find_basis_vectors(normal)  # Get 2D basis vectors\n",
    "\n",
    "    def compute_projection_matrix(self, normal):\n",
    "        \"\"\"\n",
    "        Computes the 3x3 projection matrix that projects a 3D point onto a plane \n",
    "        with the given normal vector.\n",
    "        \"\"\"\n",
    "        normal = normal / np.linalg.norm(normal)  # Normalize the normal vector\n",
    "        P = np.eye(3) - np.outer(normal, normal)  # Projection matrix\n",
    "        return P\n",
    "\n",
    "    def find_basis_vectors(self,normal):\n",
    "        \"\"\"\n",
    "        Finds two orthogonal basis vectors in the plane perpendicular to the given normal.\n",
    "        \"\"\"\n",
    "        normal = normal / np.linalg.norm(normal)\n",
    "        \n",
    "        # Pick an arbitrary vector not parallel to the normal\n",
    "        if abs(normal[0]) < abs(normal[1]):\n",
    "            u = np.array([1, 0, 0])\n",
    "        else:\n",
    "            u = np.array([0, 1, 0])\n",
    "        \n",
    "        # Make u orthogonal to normal\n",
    "        u = u - np.dot(u, normal) * normal\n",
    "        u = u / np.linalg.norm(u)\n",
    "        \n",
    "        # Compute v as cross product of normal and u\n",
    "        v = np.cross(normal, u)\n",
    "        v = v / np.linalg.norm(v)\n",
    "        \n",
    "        return u, v\n",
    "    \n",
    "    def change_basis(self, projected_point):\n",
    "        x_2d = np.dot(projected_point, self.u)\n",
    "        y_2d = np.dot(projected_point, self.v)\n",
    "        arr_2d = np.array([x_2d, y_2d])\n",
    "        return arr_2d\n",
    "\n",
    "    def project_point(self, point):\n",
    "        projected_point = self.P @ point  # Apply projection\n",
    "        return projected_point\n",
    "\n",
    "    def get_u_v_P(self):\n",
    "        return self.u, self.v, self.P\n",
    "    \n",
    "    def plot_plane(self, ax, projected_3d):\n",
    "        # Define plane grid\n",
    "        normal = self.normal\n",
    "        d = -np.dot(normal, projected_3d)\n",
    "        xx, yy = np.meshgrid(np.linspace(-10, 10, 10), np.linspace(-10, 10, 10))\n",
    "        zz = (-normal[0] * xx - normal[1] * yy - d) / normal[2]\n",
    "        # Plot the plane\n",
    "        ax.plot_surface(xx, yy, zz, color='cyan', alpha=0.5)\n",
    "\n",
    "class Sphere():\n",
    "    def __init__(self, coordinates, radius, points, name, color):\n",
    "        \"\"\"Helper function to plot a sphere.\"\"\"\n",
    "        self.centre = coordinates\n",
    "        self.radius = radius\n",
    "        u = np.linspace(0, 2 * np.pi, points)\n",
    "        v = np.linspace(0, np.pi, points)\n",
    "        self.x = coordinates[0] + radius * np.outer(np.cos(u), np.sin(v))\n",
    "        self.y = coordinates[1] + radius * np.outer(np.sin(u), np.sin(v))\n",
    "        self.z = coordinates[2] + radius * np.outer(np.ones(np.size(u)), np.cos(v))\n",
    "        self.name = name\n",
    "        self.color = color\n",
    "\n",
    "    def plot_sphere(self, ax, alpha = 1.0):\n",
    "        ax.plot_wireframe(self.x, self.y, self.z, alpha=alpha, label=self.name, color=self.color)\n",
    "\n",
    "    def get_x_y_z(self):\n",
    "        return self.x, self.y, self.z\n",
    "    \n",
    "    def set_2d(self, x, y):\n",
    "        self.x2d = x\n",
    "        self.y2d = y"
   ]
  },
  {
   "cell_type": "code",
   "execution_count": 28,
   "metadata": {},
   "outputs": [],
   "source": [
    "import godot.core.astro as astro \n",
    "import godot.core.events as events\n",
    "#Fungerer ikke helt med mine goals\n",
    "import numpy as np\n",
    "\n",
    "# Alias for Cebreros\n",
    "groundStation = 'CB11'\n",
    "def sphere_intersection(camera_pos, direction, radius = 1737.4):\n",
    "    \"\"\"Calculate the intersection of a vector from the camera position with a sphere.\"\"\"\n",
    "    direction = direction / np.linalg.norm(direction)  # Normalize direction\n",
    "    b = 2 * np.dot(camera_pos, direction)\n",
    "    c = np.dot(camera_pos, camera_pos) - radius**2\n",
    "    discriminant = b**2 - 4 * c\n",
    "    \n",
    "    if discriminant < 0:\n",
    "        return None  # No intersection\n",
    "    t_1 = (-b - np.sqrt(discriminant))/2\n",
    "    t_2 = (-b + np.sqrt(discriminant))/2\n",
    "\n",
    "    t = t_1 if abs(t_1) < np.abs(t_2) else t_2\n",
    "    intersection = camera_pos + t * direction\n",
    "    return intersection\n",
    "\n",
    "def CBSCnotBlockedByMoon( epo ):\n",
    "    # Vector from moon to ground station\n",
    "    GS = uni.frames.vector3('Moon', groundStation, 'ICRF', epo)\n",
    "    # Vector from moon to space craft\n",
    "    SC = uni.frames.vector3('Moon', 'SC', 'ICRF', epo)\n",
    "    res = sphere_intersection(GS, GS-SC)\n",
    "    if (res is None):\n",
    "        return 1\n",
    "    int_dist = np.sqrt(np.sum(np.power(GS - res,2)))\n",
    "    sc_dist = np.sqrt(np.sum(np.power(GS-SC,2)))\n",
    "    #print(f\"Intersection distance: {int_dist}, spacecraft distance: {sc_dist}, closer?: {sc_dist < int_dist}\")\n",
    "    closer = sc_dist < int_dist\n",
    "    if closer:\n",
    "        return 1\n",
    "    else:\n",
    "        return -1"
   ]
  },
  {
   "cell_type": "code",
   "execution_count": 29,
   "metadata": {},
   "outputs": [],
   "source": [
    "import matplotlib.pyplot as plt\n",
    "def plot_scenario(t, ax, positions, celestial_objects):\n",
    "    gsC, earthC, scC, moonC = positions\n",
    "\n",
    "    # Visibility checks\n",
    "    moonVisible = CBSCnotBlockedByMoon(t)\n",
    "    model = uni.evaluables[\"Cebreros_Moon_Elevation\"]\n",
    "    elevation = np.degrees(model.eval(t))\n",
    "\n",
    "    print(f\"Time: {t} - Does moon block: {'Yes' if moonVisible < 0 else 'No'}, does earth block: {'Yes' if elevation < 10 else 'No'}\")\n",
    "\n",
    "    # Plot Sun\n",
    "    celestial_objects['sun'].plot_sphere(ax, 0.25)\n",
    "    celestial_objects['earth'].plot_sphere(ax, 0.25)\n",
    "    celestial_objects['moon'].plot_sphere(ax, 0.25)\n",
    "    celestial_objects['sc'].plot_sphere(ax, 1)\n",
    "    celestial_objects['gs'].plot_sphere(ax, 1)\n",
    "\n",
    "    # Plot vector from spacecraft to ground station\n",
    "    vec = np.linspace(scC, earthC + gsC, 100)\n",
    "    c = 'g' if moonVisible > 0 and elevation > 10 else 'r'\n",
    "    ax.plot(vec[:, 0], vec[:, 1], vec[:, 2], label=\"SC to GS\", color=c)\n",
    "    \n",
    "    ax.legend()\n",
    "\n",
    "def get_celestial_objects(t, positions):\n",
    "    print('4')\n",
    "    gsC, earthC, scC, moonC = positions\n",
    "    suncentre = [0,0,0]\n",
    "\n",
    "    # Visibility checks\n",
    "    moonVisible = CBSCnotBlockedByMoon(t)\n",
    "    model = uni.evaluables[\"Cebreros_Moon_Elevation\"]\n",
    "    elevation = np.degrees(model.eval(t))\n",
    "\n",
    "    # if do_print: print(f\"Time: {t} - Does moon block: {'Yes' if moonVisible < 0 else 'No'}, does earth block: {'Yes' if elevation < 10 else 'No'}\")\n",
    "\n",
    "    # Plot Sun\n",
    "    sun = Sphere(suncentre, 695500, 200, 'sun', 'orange')\n",
    "    earth = Sphere(earthC, np.linalg.norm(gsC), 200, 'earth', color='b')\n",
    "    moon = Sphere(moonC, 1737.4, 200, 'moon', color='y')\n",
    "\n",
    "    # Plot spacecraft\n",
    "    c = 'g' if moonVisible > 0  else 'r'\n",
    "    spacecraft = Sphere(scC, 50, 200, 'sc', color=c)\n",
    "    \n",
    "    #Plot GroundStation\n",
    "    c = 'g' if elevation > 10 else 'r'\n",
    "    groundstation = Sphere(earthC + gsC, 50, 200, 'gs', color=c)\n",
    "\n",
    "    return {'earth': earth, 'moon': moon, 'sc': spacecraft, 'gs': groundstation}\n",
    "\n",
    "\n",
    "def set_view(earthcentre, mooncentre, ax, view):\n",
    "    \"\"\"Set axis limits based on the desired view.\"\"\"\n",
    "    vd_earth = 5000\n",
    "    vd_moon = 2000\n",
    "    if view == \"Earth\":\n",
    "        ax.set_xlim([earthcentre[0]-vd_earth, earthcentre[0]+vd_earth])\n",
    "        ax.set_ylim([earthcentre[1]-vd_earth, earthcentre[1]+vd_earth])\n",
    "        ax.set_zlim([earthcentre[2]-vd_earth, earthcentre[2]+vd_earth])\n",
    "    elif view == \"Moon\":\n",
    "        ax.set_xlim([mooncentre[0]-vd_moon, mooncentre[0]+vd_moon])\n",
    "        ax.set_ylim([mooncentre[1]-vd_moon, mooncentre[1]+vd_moon])\n",
    "        ax.set_zlim([mooncentre[2]-vd_moon, mooncentre[2]+vd_moon])\n",
    "\n",
    "def get_positions_at_time(t, uni, GS_name):\n",
    "\n",
    "    print('3')\n",
    "    gsC = uni.frames.vector3('Earth', GS_name, 'ICRF', t)\n",
    "    earthC = uni.frames.vector3('Sun', 'Earth', 'ICRF', t)\n",
    "    spacecraftC = uni.frames.vector3('Sun', 'SC', 'ICRF', t)\n",
    "    moonC =  uni.frames.vector3('Sun', 'Moon', 'ICRF', t)\n",
    "    return gsC, earthC, spacecraftC, moonC"
   ]
  },
  {
   "cell_type": "code",
   "execution_count": 30,
   "metadata": {},
   "outputs": [],
   "source": [
    "import numpy as np\n",
    "import godot\n",
    "\n",
    "def do_plots(time:str):#, do_plot:bool, do_print:bool):\n",
    "    # print('2')\n",
    "    t = godot.core.tempo.Epoch(time)\n",
    "    # focuses = [\"Moon\" , \"\", \"Earth\"]\n",
    "    celestial_positions = get_positions_at_time(t, uni, 'CB11')\n",
    "    # _, earth_centre, _, moon_centre = celestial_positions\n",
    "    celestial_objects = get_celestial_objects(t, celestial_positions)\n",
    "    # print('5')\n",
    "    \n",
    "    # if do_plot:\n",
    "    #     fig, ax = plt.subplots(1, 3, subplot_kw={'projection': '3d'}, figsize=(20,6))\n",
    "    #     for i, focus in enumerate(focuses):\n",
    "    #         plt.subplot(1,3,i+1)\n",
    "    #         celestial_objects = plot_scenario(t, ax[i], celestial_positions, celestial_objects)\n",
    "    #         set_view(earth_centre, moon_centre, ax[i], focus)\n",
    "    #     plt.show()\n",
    "    #     fig = plt.figure(figsize=(8, 8))\n",
    "    #     ax = fig.add_subplot(111)\n",
    "    normal =  uni.frames.vector3('Moon', 'Sun', 'ICRF', t)\n",
    "    PP = PointProjector(normal)\n",
    "    phi = np.linspace(0, 2*np.pi, 100)\n",
    "    for celestial_object_name in celestial_objects:\n",
    "        object = celestial_objects[celestial_object_name]\n",
    "        cx, cy = PP.change_basis(PP.project_point(object.centre))\n",
    "        object.set_2d(cx,cy)\n",
    "\n",
    "    # if do_plot:\n",
    "    #     for celestial_object_name in celestial_objects:\n",
    "    #         object = celestial_objects[celestial_object_name]\n",
    "    #         circle = plt.Circle((cx,cy), object.radius, color=object.color, alpha = 0.5,label = f'{object.name}')\n",
    "    #         ax.add_patch(circle)\n",
    "    #     plt.axis('equal')\n",
    "    #     plt.legend()\n",
    "    #     plt.show()\n",
    "\n",
    "    for celestial_object_name in celestial_objects:\n",
    "        object = celestial_objects[celestial_object_name]\n",
    "        if object.name == 'earth':\n",
    "            earth = object\n",
    "        if object.name == 'sc':\n",
    "            sc = object\n",
    "\n",
    "    is_sc_within_earth = np.power(earth.x2d - sc.x2d,2) + np.power(earth.y2d - sc.y2d, 2) < np.power(earth.radius, 2)\n",
    "    # if do_print: print('Is SC within earth?: ' + ('yes' if is_sc_within_earth else 'no'))\n",
    "    if is_sc_within_earth: return True\n",
    "    else: return False\n",
    "\n"
   ]
  },
  {
   "cell_type": "code",
   "execution_count": 31,
   "metadata": {},
   "outputs": [
    {
     "ename": "TypeError",
     "evalue": "do_plots() takes 1 positional argument but 3 were given",
     "output_type": "error",
     "traceback": [
      "\u001b[31m---------------------------------------------------------------------------\u001b[39m",
      "\u001b[31mTypeError\u001b[39m                                 Traceback (most recent call last)",
      "\u001b[36mCell\u001b[39m\u001b[36m \u001b[39m\u001b[32mIn[31]\u001b[39m\u001b[32m, line 17\u001b[39m\n\u001b[32m     14\u001b[39m tol = \u001b[32m1e-6\u001b[39m\n\u001b[32m     15\u001b[39m event_grid = np.array(ran.contract(eps).createGrid(\u001b[32m10.0\u001b[39m))\n\u001b[32m---> \u001b[39m\u001b[32m17\u001b[39m CB_SC_visible = \u001b[43mevents\u001b[49m\u001b[43m.\u001b[49m\u001b[43mgenerateEventIntervalSet\u001b[49m\u001b[43m(\u001b[49m\u001b[43mbba\u001b[49m\u001b[43m,\u001b[49m\u001b[43m \u001b[49m\u001b[43meps\u001b[49m\u001b[43m,\u001b[49m\u001b[43m \u001b[49m\u001b[43mgrid\u001b[49m\u001b[43m,\u001b[49m\u001b[43m \u001b[49m\u001b[43mtol\u001b[49m\u001b[43m)\u001b[49m\n\u001b[32m     19\u001b[39m \u001b[38;5;28;01mfor\u001b[39;00m interval \u001b[38;5;129;01min\u001b[39;00m CB_SC_visible:\n\u001b[32m     20\u001b[39m     start = interval.start().value()\n",
      "\u001b[36mCell\u001b[39m\u001b[36m \u001b[39m\u001b[32mIn[31]\u001b[39m\u001b[32m, line 6\u001b[39m, in \u001b[36mbba\u001b[39m\u001b[34m(epo)\u001b[39m\n\u001b[32m      5\u001b[39m \u001b[38;5;28;01mdef\u001b[39;00m\u001b[38;5;250m \u001b[39m\u001b[34mbba\u001b[39m(epo):\n\u001b[32m----> \u001b[39m\u001b[32m6\u001b[39m     \u001b[38;5;28;01mreturn\u001b[39;00m \u001b[43mdo_plots\u001b[49m\u001b[43m(\u001b[49m\u001b[43mepo\u001b[49m\u001b[43m,\u001b[49m\u001b[43m \u001b[49m\u001b[38;5;28;43;01mFalse\u001b[39;49;00m\u001b[43m,\u001b[49m\u001b[43m \u001b[49m\u001b[38;5;28;43;01mFalse\u001b[39;49;00m\u001b[43m)\u001b[49m\n",
      "\u001b[31mTypeError\u001b[39m: do_plots() takes 1 positional argument but 3 were given"
     ]
    }
   ],
   "source": [
    "#Setup\n",
    "uni_config = cosmos.util.load_yaml('universe2.yml')\n",
    "uni = cosmos.Universe(uni_config)\n",
    "\n",
    "def bba(epo):\n",
    "    return do_plots(epo, False, False)\n",
    "\n",
    "# specify a time grid\n",
    "ep1 = tempo.Epoch('2025-03-14T00:00:00 TDB')\n",
    "ep2 = tempo.Epoch('2025-04-01T12:00:00 TDB')\n",
    "ran = tempo.EpochRange( ep1, ep2 )\n",
    "grid = ran.createGrid(30.0) # 30 seconds stepsize\n",
    "eps = 1e-6\n",
    "tol = 1e-6\n",
    "event_grid = np.array(ran.contract(eps).createGrid(10.0))\n",
    "\n",
    "CB_SC_visible = events.generateEventIntervalSet(bba, eps, grid, tol)\n",
    "\n",
    "for interval in CB_SC_visible:\n",
    "    start = interval.start().value()\n",
    "    end = interval.end().value()\n",
    "    print( f\"View from {start} to {end}, duration {end - start} secs\" )"
   ]
  },
  {
   "cell_type": "code",
   "execution_count": null,
   "metadata": {},
   "outputs": [
    {
     "ename": "SyntaxError",
     "evalue": "'return' outside function (1604652817.py, line 1)",
     "output_type": "error",
     "traceback": [
      "  \u001b[36mCell\u001b[39m\u001b[36m \u001b[39m\u001b[32mIn[13]\u001b[39m\u001b[32m, line 1\u001b[39m\n\u001b[31m    \u001b[39m\u001b[31mreturn\u001b[39m\n    ^\n\u001b[31mSyntaxError\u001b[39m\u001b[31m:\u001b[39m 'return' outside function\n"
     ]
    }
   ],
   "source": [
    "CB_SC_visible = events.generateEventIntervalSet(bba, eps, grid, tol)\n",
    "\n",
    "for interval in CB_SC_visible:\n",
    "    start = interval.start().value()\n",
    "    end = interval.end().value()\n",
    "    print( f\"View from {start} to {end}, duration {end - start} secs\" )"
   ]
  }
 ],
 "metadata": {
  "kernelspec": {
   "display_name": "venv",
   "language": "python",
   "name": "python3"
  },
  "language_info": {
   "codemirror_mode": {
    "name": "ipython",
    "version": 3
   },
   "file_extension": ".py",
   "mimetype": "text/x-python",
   "name": "python",
   "nbconvert_exporter": "python",
   "pygments_lexer": "ipython3",
   "version": "3.12.9"
  },
  "metadata": {
   "interpreter": {
    "hash": "4352965e0eebb6bdc132bff4e82312dd33926da2937737857f3b11a67022f348"
   }
  }
 },
 "nbformat": 4,
 "nbformat_minor": 2
}
