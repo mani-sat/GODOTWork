{
 "cells": [
  {
   "cell_type": "code",
   "execution_count": null,
   "metadata": {},
   "outputs": [
    {
     "name": "stderr",
     "output_type": "stream",
     "text": [
      "  1%|          | 197859/31536001 [00:16<43:41, 11954.70it/s]\n"
     ]
    },
    {
     "ename": "KeyboardInterrupt",
     "evalue": "",
     "output_type": "error",
     "traceback": [
      "\u001b[31m---------------------------------------------------------------------------\u001b[39m",
      "\u001b[31mKeyboardInterrupt\u001b[39m                         Traceback (most recent call last)",
      "\u001b[36mCell\u001b[39m\u001b[36m \u001b[39m\u001b[32mIn[4]\u001b[39m\u001b[32m, line 77\u001b[39m\n\u001b[32m     75\u001b[39m \u001b[38;5;28;01mfor\u001b[39;00m t \u001b[38;5;129;01min\u001b[39;00m tqdm(event_grid):\n\u001b[32m     76\u001b[39m     NNE.append(NN_elevation.eval(t))\n\u001b[32m---> \u001b[39m\u001b[32m77\u001b[39m     CBE.append(\u001b[43mCB_elevation\u001b[49m\u001b[43m.\u001b[49m\u001b[43meval\u001b[49m\u001b[43m(\u001b[49m\u001b[43mt\u001b[49m\u001b[43m)\u001b[49m)\n\u001b[32m     78\u001b[39m     \u001b[38;5;66;03m#MGE.append(MG_elevation.eval(t))\u001b[39;00m\n",
      "\u001b[36mCell\u001b[39m\u001b[36m \u001b[39m\u001b[32mIn[4]\u001b[39m\u001b[32m, line 41\u001b[39m, in \u001b[36mCalculateBlock.eval\u001b[39m\u001b[34m(self, epoch)\u001b[39m\n\u001b[32m     38\u001b[39m     \u001b[38;5;28mself\u001b[39m.target = target\n\u001b[32m     39\u001b[39m     \u001b[38;5;28mself\u001b[39m.reference = reference\n\u001b[32m---> \u001b[39m\u001b[32m41\u001b[39m \u001b[38;5;28;01mdef\u001b[39;00m\u001b[38;5;250m \u001b[39m\u001b[34meval\u001b[39m(\u001b[38;5;28mself\u001b[39m, epoch: Union[tempo.Epoch, tempo.XEpoch]) -> \u001b[38;5;28mbool\u001b[39m:\n\u001b[32m     42\u001b[39m     SC = \u001b[38;5;28mself\u001b[39m.uni.frames.vector3(\u001b[38;5;28mself\u001b[39m.centre, \u001b[38;5;28mself\u001b[39m.target, \u001b[38;5;28mself\u001b[39m.reference, epoch)\n\u001b[32m     43\u001b[39m     GS = uni.frames.vector3(\u001b[38;5;28mself\u001b[39m.centre, \u001b[38;5;28mself\u001b[39m.observer, \u001b[38;5;28mself\u001b[39m.reference, epoch)\n",
      "\u001b[31mKeyboardInterrupt\u001b[39m: "
     ]
    }
   ],
   "source": [
    "import godot\n",
    "\n",
    "import numpy as np\n",
    "from godot.core import tempo, util, constants\n",
    "from godot.core import autodif as ad\n",
    "from godot.core.autodif import bridge as br\n",
    "from godot.model import common\n",
    "from godot import cosmos\n",
    "from tqdm import tqdm\n",
    "import time\n",
    "\n",
    "\n",
    "# optionally avoid verbose logging messages\n",
    "import godot.core.util as util\n",
    "util.suppressLogger()\n",
    "\n",
    "\n",
    "# create the universe\n",
    "uni_config = godot.cosmos.util.load_yaml('lunar_orbits.yml')\n",
    "uni = godot.cosmos.Universe(uni_config)\n",
    "\n",
    "# specify a time grid\n",
    "ep1 = tempo.Epoch('2026-04-01T00:00:00 TDB')\n",
    "ep2 = tempo.Epoch('2027-04-01T00:00:00 TDB')\n",
    "ran = tempo.EpochRange(ep1, ep2)\n",
    "eps = 1e-6\n",
    "tol = 1e-6\n",
    "event_grid = ran.contract(eps).createGrid(1.0)\n",
    "\n",
    "from typing import Union\n",
    "class CalculateBlock(common.ScalarTimeEvaluable):\n",
    "    def __init__(self, uni, centre, radius, observer, target, reference):\n",
    "        # We have to call C++ trampoline class constructor explicitly\n",
    "        common.ScalarTimeEvaluable.__init__(self)\n",
    "        self.uni = uni\n",
    "        self.centre = centre\n",
    "        self.radius = radius\n",
    "        self.observer = observer\n",
    "        self.target = target\n",
    "        self.reference = reference\n",
    "\n",
    "    def eval(self, epoch: Union[tempo.Epoch, tempo.XEpoch]) -> bool:\n",
    "        SC = self.uni.frames.vector3(self.centre, self.target, self.reference, epoch)\n",
    "        GS = uni.frames.vector3(self.centre, self.observer, self.reference, epoch)\n",
    "        \n",
    "        GSSC = GS-SC\n",
    "\n",
    "        direction = (GSSC) /  ad.norm(GSSC)  # Normalize direction\n",
    "        b = 2 * ad.dot(GS, direction)\n",
    "        c = ad.dot(GS, GS) - ad.pow(self.radius,2)\n",
    "        discriminant = ad.pow(b,2) - 4 * c\n",
    "        if discriminant < 0:\n",
    "            return True  # No intersection\n",
    "        t_1 = (-b - ad.sqrt(discriminant))/2\n",
    "        t_2 = (-b + ad.sqrt(discriminant))/2\n",
    "\n",
    "        t = t_1 if ad.abs(t_1) < ad.abs(t_2) else t_2     \n",
    "        intersection = GS + t * direction\n",
    "\n",
    "        int_dist = ad.sqrt(sum(ad.pow(GS - intersection,2)))\n",
    "        sc_dist = ad.sqrt(sum(ad.pow(GSSC,2)))\n",
    "        #print(f\"Intersection distance: {int_dist}, spacecraft distance: {sc_dist}, closer?: {sc_dist < int_dist}\")\n",
    "        closer = sc_dist < int_dist\n",
    "        if closer:\n",
    "            return True\n",
    "        else:\n",
    "            return False\n",
    "    \n",
    "NNE = []\n",
    "CBE = []\n",
    "MGE = []\n",
    "# Construct a constant radial acceleraiton\n",
    "NN_elevation = CalculateBlock(uni, 'Moon', 1737.4, 'NN11', 'SC', 'ICRF')\n",
    "CB_elevation = CalculateBlock(uni, 'Moon', 1737.4, 'CB11', 'SC', 'ICRF')\n",
    "#MG_elevation = CalculateBlock(uni, 'Moon', 1737.4, 'MG11', 'SC', 'ICRF')\n",
    "for t in tqdm(event_grid):\n",
    "    NNE.append(NN_elevation.eval(t))\n",
    "    CBE.append(CB_elevation.eval(t))\n",
    "    #MGE.append(MG_elevation.eval(t))"
   ]
  }
 ],
 "metadata": {
  "kernelspec": {
   "display_name": "venv",
   "language": "python",
   "name": "python3"
  },
  "language_info": {
   "codemirror_mode": {
    "name": "ipython",
    "version": 3
   },
   "file_extension": ".py",
   "mimetype": "text/x-python",
   "name": "python",
   "nbconvert_exporter": "python",
   "pygments_lexer": "ipython3",
   "version": "3.12.9"
  }
 },
 "nbformat": 4,
 "nbformat_minor": 2
}
