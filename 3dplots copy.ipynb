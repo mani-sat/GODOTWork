{
 "cells": [
  {
   "cell_type": "markdown",
   "metadata": {},
   "source": [
    "# Planet Viewing Example\n",
    "\n",
    "This example shows how to plot geometric quantities using the frames system.\n"
   ]
  },
  {
   "cell_type": "markdown",
   "metadata": {},
   "source": [
    "First we import numpy and the plotting module."
   ]
  },
  {
   "cell_type": "markdown",
   "metadata": {},
   "source": [
    "Then we import GODOT modules and create a universe from configuration.\n",
    "\n",
    "The [universe](./universe.yml) contains an entry to insert a keplerian orbit point, named 'SC' into the frames system."
   ]
  },
  {
   "cell_type": "code",
   "execution_count": 10,
   "metadata": {
    "execution": {
     "iopub.execute_input": "2023-04-03T14:35:32.530269Z",
     "iopub.status.busy": "2023-04-03T14:35:32.529626Z",
     "iopub.status.idle": "2023-04-03T14:35:32.601515Z",
     "shell.execute_reply": "2023-04-03T14:35:32.601024Z"
    }
   },
   "outputs": [],
   "source": [
    "from godot.core import tempo, astro, events\n",
    "from godot import cosmos\n",
    "from godot.model import eventgen\n",
    "\n",
    "# optionally avoid verbose logging messages\n",
    "import godot.core.util as util\n",
    "util.suppressLogger()\n",
    "\n",
    "# create the universe\n",
    "uni_config = cosmos.util.load_yaml('universe2.yml')\n",
    "uni = cosmos.Universe(uni_config)"
   ]
  },
  {
   "cell_type": "markdown",
   "metadata": {},
   "source": [
    "We setup the universe as defined in the yml file.\n",
    "Furthermore we define a timespan, here one month, evaluated in 30 seconds timesteps."
   ]
  },
  {
   "cell_type": "code",
   "execution_count": 11,
   "metadata": {},
   "outputs": [],
   "source": [
    "#Setup\n",
    "uni_config = cosmos.util.load_yaml('universe2.yml')\n",
    "uni = cosmos.Universe(uni_config)\n",
    "\n",
    "# specify a time grid\n",
    "ep1 = tempo.Epoch('2026-04-01T00:00:00 TDB')\n",
    "ep2 = tempo.Epoch('2026-05-01T00:00:00 TDB')\n",
    "ran = tempo.EpochRange( ep1, ep2 )\n",
    "grid = ran.createGrid(30.0) # 30 seconds stepsize\n",
    "eps = 1e-6\n",
    "tol = 1e-6\n",
    "event_grid = ran.contract(eps).createGrid(30.0)"
   ]
  },
  {
   "cell_type": "markdown",
   "metadata": {},
   "source": [
    "Events are evaluated as\n",
    "$$\n",
    "g(t) > 0\n",
    "$$\n",
    "\n",
    "Event interval are evaluated as time periods where this is true"
   ]
  },
  {
   "cell_type": "markdown",
   "metadata": {},
   "source": [
    "Besides the earth hiding, we want to know wether the moon blocks the view of the spacecraft. This can be done by calculating if the vector between the ground station and the SC intersects the surface of the moon. If the vector does, and the spacecraft is closer to the groundstation than the moon, it is still visible"
   ]
  },
  {
   "cell_type": "code",
   "execution_count": 12,
   "metadata": {},
   "outputs": [],
   "source": [
    "import godot.core.astro as astro \n",
    "import godot.core.events as events\n",
    "#Fungerer ikke helt med mine goals\n",
    "import numpy as np\n",
    "\n",
    "# Alias for Cebreros\n",
    "groundStation = 'CB11'\n",
    "def sphere_intersection(camera_pos, direction, radius = 1737.4):\n",
    "    \"\"\"Calculate the intersection of a vector from the camera position with a sphere.\"\"\"\n",
    "    direction = direction / np.linalg.norm(direction)  # Normalize direction\n",
    "    b = 2 * np.dot(camera_pos, direction)\n",
    "    c = np.dot(camera_pos, camera_pos) - radius**2\n",
    "    discriminant = b**2 - 4 * c\n",
    "    \n",
    "    if discriminant < 0:\n",
    "        return None  # No intersection\n",
    "    t_1 = (-b - np.sqrt(discriminant))/2\n",
    "    t_2 = (-b + np.sqrt(discriminant))/2\n",
    "\n",
    "    t = t_1 if abs(t_1) < np.abs(t_2) else t_2     \n",
    "    intersection = camera_pos + t * direction\n",
    "    return intersection\n",
    "\n",
    "def CBSCnotBlockedByMoon( epo ):\n",
    "    # Vector from moon to ground station\n",
    "    GS = uni.frames.vector3('Moon', groundStation, 'ICRF', epo)\n",
    "    # Vector from moon to space craft\n",
    "    SC = uni.frames.vector3('Moon', 'SC', 'ICRF', epo)\n",
    "    res = sphere_intersection(GS, GS-SC)\n",
    "    if (res is None):\n",
    "        return 1\n",
    "    int_dist = np.sqrt(np.sum(np.power(GS - res,2)))\n",
    "    sc_dist = np.sqrt(np.sum(np.power(GS-SC,2)))\n",
    "    #print(f\"Intersection distance: {int_dist}, spacecraft distance: {sc_dist}, closer?: {sc_dist < int_dist}\")\n",
    "    closer = sc_dist < int_dist\n",
    "    if closer:\n",
    "        return 1\n",
    "    else:\n",
    "        return -1"
   ]
  },
  {
   "cell_type": "code",
   "execution_count": 35,
   "metadata": {},
   "outputs": [
    {
     "data": {
      "application/vnd.jupyter.widget-view+json": {
       "model_id": "cdf4daa6cfba47e29fa3e6bc65c13ac1",
       "version_major": 2,
       "version_minor": 0
      },
      "text/plain": [
       "interactive(children=(IntSlider(value=0, description='t_index', max=61), Output()), _dom_classes=('widget-inte…"
      ]
     },
     "metadata": {},
     "output_type": "display_data"
    },
    {
     "data": {
      "text/plain": [
       "<function __main__.plotfig(t_index)>"
      ]
     },
     "execution_count": 35,
     "metadata": {},
     "output_type": "execute_result"
    }
   ],
   "source": [
    "import godot\n",
    "\n",
    "%matplotlib inline\n",
    "import numpy as np\n",
    "import matplotlib.pyplot as plt\n",
    "from mpl_toolkits.mplot3d import Axes3D\n",
    "from ipywidgets import interact, IntSlider\n",
    "\n",
    "def plot_sphere(coordinates, radius, ax, label, alpha, c):\n",
    "    \"\"\"Helper function to plot a sphere.\"\"\"\n",
    "    u = np.linspace(0, 2 * np.pi, 50)\n",
    "    v = np.linspace(0, np.pi, 50)\n",
    "    x = coordinates[0] + radius * np.outer(np.cos(u), np.sin(v))\n",
    "    y = coordinates[1] + radius * np.outer(np.sin(u), np.sin(v))\n",
    "    z = coordinates[2] + radius * np.outer(np.ones(np.size(u)), np.cos(v))\n",
    "    ax.plot_wireframe(x, y, z, alpha=alpha, label=label,color=c)\n",
    "\n",
    "def plot_scenario(t, ax):\n",
    "    GS = uni.frames.vector3('Moon', groundStation, 'ICRF', t)\n",
    "    GSE = uni.frames.vector3('Earth', groundStation, 'ICRF', t)\n",
    "    EarthCentre = uni.frames.vector3('Moon', 'Earth', 'ICRF', t)\n",
    "    spacecraft = uni.frames.vector3('Moon', 'SC', 'ICRF', t)\n",
    "    mooncentre = [0, 0, 0]\n",
    "\n",
    "    # Visibility checks\n",
    "    moonVisible = CBSCnotBlockedByMoon(t)\n",
    "    model = uni.evaluables[\"Cebreros_Moon_Elevation\"]\n",
    "    elevation = np.degrees(model.eval(t))\n",
    "\n",
    "    print(f\"Time: {t} - Does moon block: {'Yes' if moonVisible < 0 else 'No'}, does earth block: {'Yes' if elevation < 10 else 'No'}\")\n",
    "\n",
    "    # Plot spheres\n",
    "    plot_sphere(EarthCentre, np.linalg.norm(GSE), ax, 'Earth', 0.25, 'b')\n",
    "    plot_sphere(mooncentre, 1737.4, ax, 'Moon', 0.25, 'y')\n",
    "    c = 'g' if moonVisible > 0  else 'r'\n",
    "    plot_sphere(spacecraft, 100, ax, 'Spacecraft', 1, c)\n",
    "    c = 'g' if elevation > 10 else 'r'\n",
    "    plot_sphere(EarthCentre + GSE, 500, ax, 'GS', 1, c)\n",
    "\n",
    "    # Plot vector from spacecraft to ground station\n",
    "    vec = np.linspace(spacecraft, EarthCentre + GSE, 100)\n",
    "    c = 'g' if moonVisible > 0 and elevation > 10 else 'r'\n",
    "    ax.plot(vec[:, 0], vec[:, 1], vec[:, 2], label=\"SC to GS\", c=c)\n",
    "    \n",
    "    ax.legend()\n",
    "    return ax, EarthCentre, mooncentre\n",
    "\n",
    "def set_view(earthcentre, mooncentre,ax, view):\n",
    "    \"\"\"Set axis limits based on the desired view.\"\"\"\n",
    "    vd_earth = 5000\n",
    "    vd_moon = 2000\n",
    "    if view == \"Earth\":\n",
    "        ax.set_xlim([earthcentre[0]-vd_earth, earthcentre[0]+vd_earth])\n",
    "        ax.set_ylim([earthcentre[1]-vd_earth, earthcentre[1]+vd_earth])\n",
    "        ax.set_zlim([earthcentre[2]-vd_earth, earthcentre[2]+vd_earth])\n",
    "    elif view == \"Moon\":\n",
    "        ax.set_xlim([mooncentre[0]-vd_moon, mooncentre[0]+vd_moon])\n",
    "        ax.set_ylim([mooncentre[1]-vd_moon, mooncentre[1]+vd_moon])\n",
    "        ax.set_zlim([mooncentre[2]-vd_moon, mooncentre[2]+vd_moon])\n",
    "\n",
    "def plotfig(t_index):\n",
    "    t1 = godot.core.tempo.Epoch('2026-05-01T00:00:00 TDB')\n",
    "    t2 = godot.core.tempo.Epoch('2026-05-01T01:00:00 TDB')\n",
    "\n",
    "    ran = tempo.EpochRange( t1, t2 )\n",
    "    grid = ran.createGrid(60.0) # 30 seconds stepsize\n",
    "    print(len(grid))\n",
    "    t = grid[t_index]\n",
    "    # Example usage\n",
    "    fig, (ax1) = plt.figure(subplot_kw={'projection': '3d'})\n",
    "    ax, ec, mc = plot_scenario(t, ax1)\n",
    "    set_view(ec,mc,ax1, \"Moon\")\n",
    "    plt.axis('equal')\n",
    "    plt.show()\n",
    "\n",
    "interact(plotfig, t_index=IntSlider(min=0, max=61, step=1, value=0))"
   ]
  }
 ],
 "metadata": {
  "kernelspec": {
   "display_name": "venv",
   "language": "python",
   "name": "python3"
  },
  "language_info": {
   "codemirror_mode": {
    "name": "ipython",
    "version": 3
   },
   "file_extension": ".py",
   "mimetype": "text/x-python",
   "name": "python",
   "nbconvert_exporter": "python",
   "pygments_lexer": "ipython3",
   "version": "3.12.3"
  },
  "metadata": {
   "interpreter": {
    "hash": "4352965e0eebb6bdc132bff4e82312dd33926da2937737857f3b11a67022f348"
   }
  }
 },
 "nbformat": 4,
 "nbformat_minor": 2
}
