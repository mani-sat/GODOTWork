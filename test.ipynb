{
 "cells": [
  {
   "cell_type": "code",
   "execution_count": 11,
   "metadata": {},
   "outputs": [
    {
     "data": {
      "application/vnd.jupyter.widget-view+json": {
       "model_id": "5e5e21afa4734c00ac579f7762105489",
       "version_major": 2,
       "version_minor": 0
      },
      "text/plain": [
       "interactive(children=(IntSlider(value=0, description='t_index', max=19), Output()), _dom_classes=('widget-inte…"
      ]
     },
     "metadata": {},
     "output_type": "display_data"
    },
    {
     "data": {
      "text/plain": [
       "<function __main__.plot_3d(t_index)>"
      ]
     },
     "execution_count": 11,
     "metadata": {},
     "output_type": "execute_result"
    }
   ],
   "source": [
    "%matplotlib inline\n",
    "import numpy as np\n",
    "import matplotlib.pyplot as plt\n",
    "from mpl_toolkits.mplot3d import Axes3D\n",
    "from ipywidgets import interact, IntSlider\n",
    "\n",
    "# Generate sample data\n",
    "num_points = 100\n",
    "t_values = np.linspace(0, 2*np.pi, 20)  # Predefined values for slider\n",
    "x = np.linspace(-5, 5, num_points)\n",
    "y = np.linspace(-5, 5, num_points)\n",
    "X, Y = np.meshgrid(x, y)\n",
    "\n",
    "# Function to update the plot\n",
    "def plot_3d(t_index):\n",
    "    Z = np.sin(X) * np.cos(Y) + np.sin(t_values[t_index])  # Example function\n",
    "    fig = plt.figure(figsize=(8,6))\n",
    "    ax = fig.add_subplot(111, projection='3d')\n",
    "    ax.plot_surface(X, Y, Z, cmap='viridis')\n",
    "    ax.set_title(f\"3D Plot for t_index = {t_index}, t_value = {t_values[t_index]:.2f}\")\n",
    "    plt.show()\n",
    "\n",
    "# Create interactive slider\n",
    "interact(plot_3d, t_index=IntSlider(min=0, max=len(t_values)-1, step=1, value=0))\n"
   ]
  }
 ],
 "metadata": {
  "kernelspec": {
   "display_name": "venv",
   "language": "python",
   "name": "python3"
  },
  "language_info": {
   "codemirror_mode": {
    "name": "ipython",
    "version": 3
   },
   "file_extension": ".py",
   "mimetype": "text/x-python",
   "name": "python",
   "nbconvert_exporter": "python",
   "pygments_lexer": "ipython3",
   "version": "3.12.3"
  }
 },
 "nbformat": 4,
 "nbformat_minor": 2
}
